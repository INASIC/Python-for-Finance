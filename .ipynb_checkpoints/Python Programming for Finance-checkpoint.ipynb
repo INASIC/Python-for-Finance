{
 "cells": [
  {
   "cell_type": "markdown",
   "metadata": {
    "_cell_guid": "b1076dfc-b9ad-4769-8c92-a6c4dae69d19",
    "_uuid": "8f2839f25d086af736a60e9eeb907d3b93b6e0e5",
    "collapsed": true
   },
   "source": [
    "# Python Programming for Finance\n",
    "\n",
    "This notebook includes notes, and examples from the YouTube series by [sentdex](https://www.youtube.com/channel/UCfzlCWGWYyIQ0aLC5w48gBQ), [Python Programming for Finance](https://www.youtube.com/playlist?list=PLQVvvaa0QuDcOdF96TBtRtuQksErCEBYZ).\n",
    "\n",
    "## Required Packages\n",
    "\n",
    "* pandas\n",
    "* pandas-datareader\n",
    "* matplotlib\n",
    "* beautifulsoup4\n",
    "* scikit-learn\n",
    "* mpl_finance\n",
    "\n",
    "\n",
    "## Table of Contents\n",
    "\n",
    "[1. Analyse data from just one company](#intro)\n",
    "\n",
    "[2. Collect and combine data from the entire S&P 500 companies](#SP)\n",
    "3. Analyse relationships between companies\n",
    "4. Formulate trading strategies\n",
    "5. Analyze trading strategies\n",
    "\n"
   ]
  },
  {
   "cell_type": "markdown",
   "metadata": {
    "_cell_guid": "79c7e3d0-c299-4dcb-8224-4455121ee9b0",
    "_uuid": "d629ff2d2480ee46fbb7e2d37f6b5fab8052498a",
    "collapsed": true
   },
   "source": [
    "## <a class=\"anchor\" id=\"intro\"></a> Intro and Getting Share Price Data \n",
    "\n",
    "To begin, we'll collect and analyse the share price data of the electric car company [TESLA](https://www.tesla.com/en_GB/). This was done using the pandas DataReader, and by collecting the data from the financial website https://www.morningstar.com/. "
   ]
  },
  {
   "cell_type": "code",
   "execution_count": 1,
   "metadata": {},
   "outputs": [
    {
     "name": "stderr",
     "output_type": "stream",
     "text": [
      "/usr/lib/python3.5/importlib/_bootstrap.py:222: RuntimeWarning: numpy.dtype size changed, may indicate binary incompatibility. Expected 96, got 88\n",
      "  return f(*args, **kwds)\n",
      "/usr/lib/python3.5/importlib/_bootstrap.py:222: RuntimeWarning: numpy.dtype size changed, may indicate binary incompatibility. Expected 96, got 88\n",
      "  return f(*args, **kwds)\n"
     ]
    },
    {
     "data": {
      "text/html": [
       "<div>\n",
       "<style scoped>\n",
       "    .dataframe tbody tr th:only-of-type {\n",
       "        vertical-align: middle;\n",
       "    }\n",
       "\n",
       "    .dataframe tbody tr th {\n",
       "        vertical-align: top;\n",
       "    }\n",
       "\n",
       "    .dataframe thead th {\n",
       "        text-align: right;\n",
       "    }\n",
       "</style>\n",
       "<table border=\"1\" class=\"dataframe\">\n",
       "  <thead>\n",
       "    <tr style=\"text-align: right;\">\n",
       "      <th></th>\n",
       "      <th>Close</th>\n",
       "      <th>High</th>\n",
       "      <th>Low</th>\n",
       "      <th>Open</th>\n",
       "      <th>Volume</th>\n",
       "    </tr>\n",
       "    <tr>\n",
       "      <th>Date</th>\n",
       "      <th></th>\n",
       "      <th></th>\n",
       "      <th></th>\n",
       "      <th></th>\n",
       "      <th></th>\n",
       "    </tr>\n",
       "  </thead>\n",
       "  <tbody>\n",
       "    <tr>\n",
       "      <th>2010-06-29</th>\n",
       "      <td>23.89</td>\n",
       "      <td>25.0000</td>\n",
       "      <td>17.54</td>\n",
       "      <td>19.00</td>\n",
       "      <td>18783276</td>\n",
       "    </tr>\n",
       "    <tr>\n",
       "      <th>2010-06-30</th>\n",
       "      <td>23.83</td>\n",
       "      <td>30.4192</td>\n",
       "      <td>23.30</td>\n",
       "      <td>25.96</td>\n",
       "      <td>17194394</td>\n",
       "    </tr>\n",
       "    <tr>\n",
       "      <th>2010-07-01</th>\n",
       "      <td>21.96</td>\n",
       "      <td>25.9200</td>\n",
       "      <td>20.27</td>\n",
       "      <td>25.00</td>\n",
       "      <td>8216789</td>\n",
       "    </tr>\n",
       "    <tr>\n",
       "      <th>2010-07-02</th>\n",
       "      <td>19.20</td>\n",
       "      <td>23.1000</td>\n",
       "      <td>18.71</td>\n",
       "      <td>23.00</td>\n",
       "      <td>5135795</td>\n",
       "    </tr>\n",
       "    <tr>\n",
       "      <th>2010-07-05</th>\n",
       "      <td>19.20</td>\n",
       "      <td>19.2000</td>\n",
       "      <td>19.20</td>\n",
       "      <td>19.20</td>\n",
       "      <td>0</td>\n",
       "    </tr>\n",
       "  </tbody>\n",
       "</table>\n",
       "</div>"
      ],
      "text/plain": [
       "            Close     High    Low   Open    Volume\n",
       "Date                                              \n",
       "2010-06-29  23.89  25.0000  17.54  19.00  18783276\n",
       "2010-06-30  23.83  30.4192  23.30  25.96  17194394\n",
       "2010-07-01  21.96  25.9200  20.27  25.00   8216789\n",
       "2010-07-02  19.20  23.1000  18.71  23.00   5135795\n",
       "2010-07-05  19.20  19.2000  19.20  19.20         0"
      ]
     },
     "execution_count": 1,
     "metadata": {},
     "output_type": "execute_result"
    }
   ],
   "source": [
    "import datetime as dt\n",
    "import pandas as pd\n",
    "pd.core.common.is_list_like = pd.api.types.is_list_like\n",
    "import pandas_datareader.data as web\n",
    "\n",
    "start = dt.datetime(2000, 1, 1)\n",
    "end = dt.datetime.now()\n",
    "df = web.DataReader(\"TSLA\", 'morningstar', start, end)  # Collects data\n",
    "df.reset_index(inplace=True)\n",
    "df.set_index(\"Date\", inplace=True)\n",
    "df = df.drop(\"Symbol\", axis=1)\n",
    "\n",
    "df.head()"
   ]
  },
  {
   "cell_type": "code",
   "execution_count": 2,
   "metadata": {},
   "outputs": [
    {
     "data": {
      "text/html": [
       "<div>\n",
       "<style scoped>\n",
       "    .dataframe tbody tr th:only-of-type {\n",
       "        vertical-align: middle;\n",
       "    }\n",
       "\n",
       "    .dataframe tbody tr th {\n",
       "        vertical-align: top;\n",
       "    }\n",
       "\n",
       "    .dataframe thead th {\n",
       "        text-align: right;\n",
       "    }\n",
       "</style>\n",
       "<table border=\"1\" class=\"dataframe\">\n",
       "  <thead>\n",
       "    <tr style=\"text-align: right;\">\n",
       "      <th></th>\n",
       "      <th>Close</th>\n",
       "      <th>High</th>\n",
       "      <th>Low</th>\n",
       "      <th>Open</th>\n",
       "      <th>Volume</th>\n",
       "    </tr>\n",
       "    <tr>\n",
       "      <th>Date</th>\n",
       "      <th></th>\n",
       "      <th></th>\n",
       "      <th></th>\n",
       "      <th></th>\n",
       "      <th></th>\n",
       "    </tr>\n",
       "  </thead>\n",
       "  <tbody>\n",
       "    <tr>\n",
       "      <th>2018-07-19</th>\n",
       "      <td>320.23</td>\n",
       "      <td>323.5400</td>\n",
       "      <td>314.0100</td>\n",
       "      <td>316.3300</td>\n",
       "      <td>5915345</td>\n",
       "    </tr>\n",
       "    <tr>\n",
       "      <th>2018-07-20</th>\n",
       "      <td>313.58</td>\n",
       "      <td>323.2400</td>\n",
       "      <td>311.7093</td>\n",
       "      <td>321.2300</td>\n",
       "      <td>5166547</td>\n",
       "    </tr>\n",
       "    <tr>\n",
       "      <th>2018-07-23</th>\n",
       "      <td>303.20</td>\n",
       "      <td>305.5000</td>\n",
       "      <td>292.8601</td>\n",
       "      <td>301.8400</td>\n",
       "      <td>10992947</td>\n",
       "    </tr>\n",
       "    <tr>\n",
       "      <th>2018-07-24</th>\n",
       "      <td>297.43</td>\n",
       "      <td>307.7171</td>\n",
       "      <td>292.5452</td>\n",
       "      <td>304.4209</td>\n",
       "      <td>9590784</td>\n",
       "    </tr>\n",
       "    <tr>\n",
       "      <th>2018-07-25</th>\n",
       "      <td>308.74</td>\n",
       "      <td>309.6200</td>\n",
       "      <td>294.5025</td>\n",
       "      <td>296.7400</td>\n",
       "      <td>6988513</td>\n",
       "    </tr>\n",
       "  </tbody>\n",
       "</table>\n",
       "</div>"
      ],
      "text/plain": [
       "             Close      High       Low      Open    Volume\n",
       "Date                                                      \n",
       "2018-07-19  320.23  323.5400  314.0100  316.3300   5915345\n",
       "2018-07-20  313.58  323.2400  311.7093  321.2300   5166547\n",
       "2018-07-23  303.20  305.5000  292.8601  301.8400  10992947\n",
       "2018-07-24  297.43  307.7171  292.5452  304.4209   9590784\n",
       "2018-07-25  308.74  309.6200  294.5025  296.7400   6988513"
      ]
     },
     "execution_count": 2,
     "metadata": {},
     "output_type": "execute_result"
    }
   ],
   "source": [
    "df.tail()"
   ]
  },
  {
   "cell_type": "markdown",
   "metadata": {},
   "source": [
    "### Visualize TESLA Close Prices"
   ]
  },
  {
   "cell_type": "code",
   "execution_count": 3,
   "metadata": {},
   "outputs": [
    {
     "data": {
      "text/plain": [
       "<Figure size 640x480 with 1 Axes>"
      ]
     },
     "metadata": {},
     "output_type": "display_data"
    }
   ],
   "source": [
    "# Visualize the close prices\n",
    "import matplotlib.pyplot as plt\n",
    "from matplotlib import style\n",
    "\n",
    "style.use('ggplot')\n",
    "\n",
    "df.Close.plot()\n",
    "plt.ylabel('Close Price'); plt.xlabel('Date')\n",
    "plt.show()"
   ]
  },
  {
   "cell_type": "markdown",
   "metadata": {},
   "source": [
    "## Basic Stock Data Manipulation\n",
    "\n",
    "### Moving Averages\n",
    "\n",
    "Here we will create [moving averages](https://www.investopedia.com/terms/m/movingaverage.asp) of the TESLA share price data. \n",
    "\n",
    "Moving averages are created by averaging over historical price data, and result in a curve that smooths out price over time. They can be useful indicators for traders, particuarly when different moving averages cross as this can indicate an uptrend/ downtrend in price. \n",
    "\n",
    "Here we will create and visualize the 100 day moving average, and visualize it along with the close price and volume data. "
   ]
  },
  {
   "cell_type": "code",
   "execution_count": 4,
   "metadata": {},
   "outputs": [
    {
     "data": {
      "text/html": [
       "<div>\n",
       "<style scoped>\n",
       "    .dataframe tbody tr th:only-of-type {\n",
       "        vertical-align: middle;\n",
       "    }\n",
       "\n",
       "    .dataframe tbody tr th {\n",
       "        vertical-align: top;\n",
       "    }\n",
       "\n",
       "    .dataframe thead th {\n",
       "        text-align: right;\n",
       "    }\n",
       "</style>\n",
       "<table border=\"1\" class=\"dataframe\">\n",
       "  <thead>\n",
       "    <tr style=\"text-align: right;\">\n",
       "      <th></th>\n",
       "      <th>Close</th>\n",
       "      <th>High</th>\n",
       "      <th>Low</th>\n",
       "      <th>Open</th>\n",
       "      <th>Volume</th>\n",
       "      <th>100ma</th>\n",
       "    </tr>\n",
       "    <tr>\n",
       "      <th>Date</th>\n",
       "      <th></th>\n",
       "      <th></th>\n",
       "      <th></th>\n",
       "      <th></th>\n",
       "      <th></th>\n",
       "      <th></th>\n",
       "    </tr>\n",
       "  </thead>\n",
       "  <tbody>\n",
       "    <tr>\n",
       "      <th>2010-06-29</th>\n",
       "      <td>23.89</td>\n",
       "      <td>25.0000</td>\n",
       "      <td>17.54</td>\n",
       "      <td>19.00</td>\n",
       "      <td>18783276</td>\n",
       "      <td>23.890000</td>\n",
       "    </tr>\n",
       "    <tr>\n",
       "      <th>2010-06-30</th>\n",
       "      <td>23.83</td>\n",
       "      <td>30.4192</td>\n",
       "      <td>23.30</td>\n",
       "      <td>25.96</td>\n",
       "      <td>17194394</td>\n",
       "      <td>23.860000</td>\n",
       "    </tr>\n",
       "    <tr>\n",
       "      <th>2010-07-01</th>\n",
       "      <td>21.96</td>\n",
       "      <td>25.9200</td>\n",
       "      <td>20.27</td>\n",
       "      <td>25.00</td>\n",
       "      <td>8216789</td>\n",
       "      <td>23.226667</td>\n",
       "    </tr>\n",
       "    <tr>\n",
       "      <th>2010-07-02</th>\n",
       "      <td>19.20</td>\n",
       "      <td>23.1000</td>\n",
       "      <td>18.71</td>\n",
       "      <td>23.00</td>\n",
       "      <td>5135795</td>\n",
       "      <td>22.220000</td>\n",
       "    </tr>\n",
       "    <tr>\n",
       "      <th>2010-07-05</th>\n",
       "      <td>19.20</td>\n",
       "      <td>19.2000</td>\n",
       "      <td>19.20</td>\n",
       "      <td>19.20</td>\n",
       "      <td>0</td>\n",
       "      <td>21.616000</td>\n",
       "    </tr>\n",
       "  </tbody>\n",
       "</table>\n",
       "</div>"
      ],
      "text/plain": [
       "            Close     High    Low   Open    Volume      100ma\n",
       "Date                                                         \n",
       "2010-06-29  23.89  25.0000  17.54  19.00  18783276  23.890000\n",
       "2010-06-30  23.83  30.4192  23.30  25.96  17194394  23.860000\n",
       "2010-07-01  21.96  25.9200  20.27  25.00   8216789  23.226667\n",
       "2010-07-02  19.20  23.1000  18.71  23.00   5135795  22.220000\n",
       "2010-07-05  19.20  19.2000  19.20  19.20         0  21.616000"
      ]
     },
     "execution_count": 4,
     "metadata": {},
     "output_type": "execute_result"
    }
   ],
   "source": [
    "# Create, and add 100 day moving average to dataframe\n",
    "df['100ma'] = df['Close'].rolling(window=100, min_periods=0).mean()\n",
    "df.head()"
   ]
  },
  {
   "cell_type": "code",
   "execution_count": 5,
   "metadata": {},
   "outputs": [
    {
     "data": {
      "image/png": "[encoded data removed]",
      "text/plain": [
       "<Figure size 432x288 with 2 Axes>"
      ]
     },
     "metadata": {},
     "output_type": "display_data"
    }
   ],
   "source": [
    "# Visualize the close prices, 100ma, and volume\n",
    "ax1 = plt.subplot2grid((6,1), (0,0), rowspan=5, colspan=1)\n",
    "ax2 = plt.subplot2grid((6,1), (5,0), rowspan=1, colspan=1, sharex=ax1)\n",
    "\n",
    "ax1.plot(df.index, df.Close)\n",
    "ax1.plot(df.index, df['100ma'])\n",
    "ax2.bar(df.index, df.Volume, label='volume')\n",
    "\n",
    "ax1.legend()\n",
    "plt.show()"
   ]
  },
  {
   "cell_type": "markdown",
   "metadata": {},
   "source": [
    "### Candlestick Charting\n",
    "\n",
    "Resampling is a very useful operation in Pandas for manipulating time series data. It involves changing the frequency of your time series observations. \n",
    "\n",
    "There are two types of resampling:\n",
    "1. ___Upsampling___: Where you increase the frequency of the samples (e.g. minutes $\\rightarrow$ seconds)\n",
    "2. ___Downsampling___: Where you decrease the frequency of the samples (e.g. days $\\rightarrow$ months)\n",
    "\n",
    "Here we will use resampling to create [candlesticks](https://www.investopedia.com/trading/candlestick-charting-what-is-it/). \n",
    "\n",
    "First, we resample our close prices to get the [open-high-low-close](https://www.investopedia.com/terms/o/ohlcchart.asp) (OHLC) data."
   ]
  },
  {
   "cell_type": "code",
   "execution_count": 6,
   "metadata": {},
   "outputs": [
    {
     "data": {
      "text/html": [
       "<div>\n",
       "<style scoped>\n",
       "    .dataframe tbody tr th:only-of-type {\n",
       "        vertical-align: middle;\n",
       "    }\n",
       "\n",
       "    .dataframe tbody tr th {\n",
       "        vertical-align: top;\n",
       "    }\n",
       "\n",
       "    .dataframe thead th {\n",
       "        text-align: right;\n",
       "    }\n",
       "</style>\n",
       "<table border=\"1\" class=\"dataframe\">\n",
       "  <thead>\n",
       "    <tr style=\"text-align: right;\">\n",
       "      <th></th>\n",
       "      <th>open</th>\n",
       "      <th>high</th>\n",
       "      <th>low</th>\n",
       "      <th>close</th>\n",
       "    </tr>\n",
       "    <tr>\n",
       "      <th>Date</th>\n",
       "      <th></th>\n",
       "      <th></th>\n",
       "      <th></th>\n",
       "      <th></th>\n",
       "    </tr>\n",
       "  </thead>\n",
       "  <tbody>\n",
       "    <tr>\n",
       "      <th>2010-06-29</th>\n",
       "      <td>23.89</td>\n",
       "      <td>23.89</td>\n",
       "      <td>15.80</td>\n",
       "      <td>17.46</td>\n",
       "    </tr>\n",
       "    <tr>\n",
       "      <th>2010-07-09</th>\n",
       "      <td>17.40</td>\n",
       "      <td>20.64</td>\n",
       "      <td>17.05</td>\n",
       "      <td>20.64</td>\n",
       "    </tr>\n",
       "    <tr>\n",
       "      <th>2010-07-19</th>\n",
       "      <td>21.91</td>\n",
       "      <td>21.91</td>\n",
       "      <td>20.22</td>\n",
       "      <td>20.72</td>\n",
       "    </tr>\n",
       "    <tr>\n",
       "      <th>2010-07-29</th>\n",
       "      <td>20.35</td>\n",
       "      <td>21.95</td>\n",
       "      <td>19.59</td>\n",
       "      <td>19.59</td>\n",
       "    </tr>\n",
       "    <tr>\n",
       "      <th>2010-08-08</th>\n",
       "      <td>19.60</td>\n",
       "      <td>19.60</td>\n",
       "      <td>17.60</td>\n",
       "      <td>19.15</td>\n",
       "    </tr>\n",
       "  </tbody>\n",
       "</table>\n",
       "</div>"
      ],
      "text/plain": [
       "             open   high    low  close\n",
       "Date                                  \n",
       "2010-06-29  23.89  23.89  15.80  17.46\n",
       "2010-07-09  17.40  20.64  17.05  20.64\n",
       "2010-07-19  21.91  21.91  20.22  20.72\n",
       "2010-07-29  20.35  21.95  19.59  19.59\n",
       "2010-08-08  19.60  19.60  17.60  19.15"
      ]
     },
     "execution_count": 6,
     "metadata": {},
     "output_type": "execute_result"
    }
   ],
   "source": [
    "# Resample to get open-high-low-close (OHLC) on every 10 days of data\n",
    "df_ohlc = df.Close.resample('10D').ohlc() \n",
    "df_volume = df.Volume.resample('10D').sum()\n",
    "\n",
    "df_ohlc.head()"
   ]
  },
  {
   "cell_type": "markdown",
   "metadata": {},
   "source": [
    "```matplotlib.finance``` offers some useful functions for plotting candlesticks. "
   ]
  },
  {
   "cell_type": "code",
   "execution_count": 7,
   "metadata": {},
   "outputs": [],
   "source": [
    "from mpl_finance import candlestick_ohlc\n",
    "import matplotlib.dates as mdates"
   ]
  },
  {
   "cell_type": "markdown",
   "metadata": {},
   "source": [
    "The function ```candlestick_ohlc``` requires a special type of data type known as an mdate. Here, we convert our dates into mdates:"
   ]
  },
  {
   "cell_type": "code",
   "execution_count": 8,
   "metadata": {},
   "outputs": [
    {
     "data": {
      "text/html": [
       "<div>\n",
       "<style scoped>\n",
       "    .dataframe tbody tr th:only-of-type {\n",
       "        vertical-align: middle;\n",
       "    }\n",
       "\n",
       "    .dataframe tbody tr th {\n",
       "        vertical-align: top;\n",
       "    }\n",
       "\n",
       "    .dataframe thead th {\n",
       "        text-align: right;\n",
       "    }\n",
       "</style>\n",
       "<table border=\"1\" class=\"dataframe\">\n",
       "  <thead>\n",
       "    <tr style=\"text-align: right;\">\n",
       "      <th></th>\n",
       "      <th>Date</th>\n",
       "      <th>open</th>\n",
       "      <th>high</th>\n",
       "      <th>low</th>\n",
       "      <th>close</th>\n",
       "    </tr>\n",
       "  </thead>\n",
       "  <tbody>\n",
       "    <tr>\n",
       "      <th>0</th>\n",
       "      <td>733952.0</td>\n",
       "      <td>23.89</td>\n",
       "      <td>23.89</td>\n",
       "      <td>15.80</td>\n",
       "      <td>17.46</td>\n",
       "    </tr>\n",
       "    <tr>\n",
       "      <th>1</th>\n",
       "      <td>733962.0</td>\n",
       "      <td>17.40</td>\n",
       "      <td>20.64</td>\n",
       "      <td>17.05</td>\n",
       "      <td>20.64</td>\n",
       "    </tr>\n",
       "    <tr>\n",
       "      <th>2</th>\n",
       "      <td>733972.0</td>\n",
       "      <td>21.91</td>\n",
       "      <td>21.91</td>\n",
       "      <td>20.22</td>\n",
       "      <td>20.72</td>\n",
       "    </tr>\n",
       "    <tr>\n",
       "      <th>3</th>\n",
       "      <td>733982.0</td>\n",
       "      <td>20.35</td>\n",
       "      <td>21.95</td>\n",
       "      <td>19.59</td>\n",
       "      <td>19.59</td>\n",
       "    </tr>\n",
       "    <tr>\n",
       "      <th>4</th>\n",
       "      <td>733992.0</td>\n",
       "      <td>19.60</td>\n",
       "      <td>19.60</td>\n",
       "      <td>17.60</td>\n",
       "      <td>19.15</td>\n",
       "    </tr>\n",
       "  </tbody>\n",
       "</table>\n",
       "</div>"
      ],
      "text/plain": [
       "       Date   open   high    low  close\n",
       "0  733952.0  23.89  23.89  15.80  17.46\n",
       "1  733962.0  17.40  20.64  17.05  20.64\n",
       "2  733972.0  21.91  21.91  20.22  20.72\n",
       "3  733982.0  20.35  21.95  19.59  19.59\n",
       "4  733992.0  19.60  19.60  17.60  19.15"
      ]
     },
     "execution_count": 8,
     "metadata": {},
     "output_type": "execute_result"
    }
   ],
   "source": [
    "df_ohlc.reset_index(inplace=True)\n",
    "df_ohlc.Date = df_ohlc.Date.map(mdates.date2num)\n",
    "df_ohlc.head()"
   ]
  },
  {
   "cell_type": "markdown",
   "metadata": {},
   "source": [
    "Having created our open high low close data, we can now use it to create candlesticks:"
   ]
  },
  {
   "cell_type": "code",
   "execution_count": 9,
   "metadata": {},
   "outputs": [
    {
     "data": {
      "image/png": "[encoded data removed]",
      "text/plain": [
       "<Figure size 432x288 with 2 Axes>"
      ]
     },
     "metadata": {},
     "output_type": "display_data"
    }
   ],
   "source": [
    "# Create and visualize candlestick charts\n",
    "ax1 = plt.subplot2grid((6,1), (0,0), rowspan=5, colspan=1)\n",
    "ax2 = plt.subplot2grid((6,1), (5,0), rowspan=1, colspan=1, sharex=ax1)\n",
    "ax1.xaxis_date()\n",
    "\n",
    "candlestick_ohlc(ax1, df_ohlc.values, width=2, colorup='g')\n",
    "ax2.fill_between(df_volume.index.map(mdates.date2num), df_volume.values, 0)\n",
    "\n",
    "plt.show()"
   ]
  },
  {
   "cell_type": "markdown",
   "metadata": {},
   "source": [
    "Candlestick graphs help condense __price direction__ and __open-high-low-close__ data all in just one graph. In addition, we have plotted the __volume__ in the lower subplot to condense even more information in just one plot."
   ]
  },
  {
   "cell_type": "markdown",
   "metadata": {},
   "source": [
    "## <a class=\"anchor\" id=\"SP\"></a> Automating Getting the S&P 500 List\n",
    "\n",
    "The [S&P 500](https://en.wikipedia.org/wiki/List_of_S%26P_500_companies) is a list of (generally) the top 500 companies by _market capitalization_. The market capitilization describes the value of a company, and is calculated as the product of the number of its outstanding shares and the price of each share. The S&P can therefore be thought of as the __top 500 most valuable companies__.\n",
    "\n",
    "Here we will build create a ___web scraper___ that will collect the S&P data from the internet. To do this, we use a web scraping library called [Beautiful Soup](https://www.crummy.com/software/BeautifulSoup/).\n",
    "\n",
    "By first opening our [website](https://en.wikipedia.org/wiki/List_of_S%26P_500_companies) that contains the data we want, we take note of how the data is presented. We observe that it is displayed in a _table_, and the first row second column has a security, '_3M Company_'. What we want is to collect the data that is displayed in this table. To do this, we can extract it from the websites source code. To view the source code we first go to the website, and then press ```CTRL+U``` on the keyboard. By then pressing ```CTRL+F```, we search for the occurence of the first elements in the table (e.g. we search for the term '3M Company'), to get an idea of where the table data begins. By then searching for the term '_table_', we observe an occurence of it only a couple of lines above it. A couple of lines below that, we observe the first table data tags, ```<td>```, this denotes the beginning of the table data that we want to extract.\n",
    "\n",
    "Let's build the web scraper!"
   ]
  },
  {
   "cell_type": "code",
   "execution_count": 10,
   "metadata": {},
   "outputs": [],
   "source": [
    "import bs4 as bs  # Beautiful Soup (web scraping library)\n",
    "import pickle  # Allows us to save S&P list\n",
    "import requests"
   ]
  },
  {
   "cell_type": "markdown",
   "metadata": {},
   "source": [
    "The [pickle](https://docs.python.org/2/library/pickle.html) module serializes any Python objects, and allows us to __save any object__ as a variable. Here we will use it to save the S&P 500 list, so that we won't have to always go back to wikipedia to collect that data. "
   ]
  },
  {
   "cell_type": "code",
   "execution_count": 11,
   "metadata": {},
   "outputs": [],
   "source": [
    "# Saves the S&P 500 ticker data\n",
    "def save_sp500_tickers():\n",
    "    resp = requests.get('https://en.wikipedia.org/wiki/List_of_S%26P_500_companies')\n",
    "    soup = bs.BeautifulSoup(resp.text, 'lxml')\n",
    "    table = soup.find('table', {'class':'wikitable sortable'})\n",
    "    tickers = []\n",
    "    \n",
    "    # Iterate through the table\n",
    "    for row in table.findAll('tr')[1:]:  # [1:] Skips the table header\n",
    "        ticker = row.findAll('td')[0].text  # Collects the ticker data\n",
    "        tickers.append(ticker)\n",
    "    \n",
    "    # Save the collected data\n",
    "    with open('sp500tickers.pickle', 'wb') as f:\n",
    "        pickle.dump(tickers, f)\n",
    "        \n",
    "    return tickers"
   ]
  },
  {
   "cell_type": "code",
   "execution_count": 12,
   "metadata": {},
   "outputs": [
    {
     "data": {
      "text/plain": [
       "['MMM', 'ABT', 'ABBV', 'ABMD', 'ACN']"
      ]
     },
     "execution_count": 12,
     "metadata": {},
     "output_type": "execute_result"
    }
   ],
   "source": [
    "save_sp500_tickers()[:5]  # Print just the first 5 tickers in the table"
   ]
  },
  {
   "cell_type": "markdown",
   "metadata": {},
   "source": [
    "Comparing these with the first 5 tickers in the table of our [wikipedia page](https://en.wikipedia.org/wiki/List_of_S%26P_500_companies), we observe they are identical. Having sucesfully scraped the ticker data for our S&P 500 list, we will now collect the rest of the relevant data.\n",
    "\n",
    "It appears that the morningstar API gets stuck loading a few of the tickers. I have added a try and except code block, so that if it takes too long, interrupt the kernel so that it will continue loading the others."
   ]
  },
  {
   "cell_type": "code",
   "execution_count": 13,
   "metadata": {},
   "outputs": [],
   "source": [
    "import os\n",
    "import time"
   ]
  },
  {
   "cell_type": "code",
   "execution_count": 14,
   "metadata": {},
   "outputs": [],
   "source": [
    "def get_data_from_web(reload_sp500=False):\n",
    "    if reload_sp500:\n",
    "        tickers = save_sp500_tickers()\n",
    "    else:\n",
    "        with open(\"sp500tickers.pickle\", \"rb\") as f:\n",
    "            tickers = pickle.load(f)\n",
    "    if not os.path.exists('stock_dfs'):\n",
    "        os.makedirs('stock_dfs')\n",
    "\n",
    "    start = dt.datetime(2010, 1, 1)\n",
    "    end = dt.datetime.now()\n",
    "            \n",
    "    # Check if file already exists as a locally saved file    \n",
    "    for ticker in tickers:\n",
    "        try:\n",
    "            # Collect and save data locally if it doesn't exist yet\n",
    "            if not os.path.exists('stock_dfs/{}.csv'.format(ticker)):\n",
    "                df = web.DataReader(ticker, 'morningstar', start, end)\n",
    "                df.reset_index(inplace= True)\n",
    "                df.set_index('Date', inplace= True)\n",
    "                df = df.drop('Symbol', axis=1)\n",
    "                df.to_csv('stock_dfs/{}.csv'.format(ticker))\n",
    "            else:\n",
    "                print('Already have {}'.format(ticker))  # Already exists\n",
    "        except:\n",
    "            print('Cannot obtain data for ' + ticker)  # If it takes too long"
   ]
  },
  {
   "cell_type": "code",
   "execution_count": 17,
   "metadata": {},
   "outputs": [],
   "source": [
    "# get_data_from_web()  # Collect and store all ticker data locally"
   ]
  },
  {
   "cell_type": "markdown",
   "metadata": {},
   "source": [
    "### Combining S&P 500 into one DataFrame\n",
    "\n",
    "Having collected all our necessary csv files from the web, we will combine them neatly into one DataFrame object. We will combine them such that we record only the _Close_ data for each ticker.\n",
    "\n",
    "Some tickers failed to download, so we will ensure to skip those when combining the dataframe."
   ]
  },
  {
   "cell_type": "code",
   "execution_count": 28,
   "metadata": {},
   "outputs": [],
   "source": [
    "missing_tickers = ['ANDV', 'BKNG', 'BHF', 'CBRE', 'DWDP', 'DXC', 'EVRG', 'JEF', 'TPR', 'UAA', 'WELL']"
   ]
  },
  {
   "cell_type": "code",
   "execution_count": 45,
   "metadata": {},
   "outputs": [],
   "source": [
    "def compile_data():\n",
    "    with open('sp500tickers.pickle', 'rb') as f:\n",
    "        tickers = pickle.load(f)\n",
    "    \n",
    "    main_df = pd.DataFrame()\n",
    "    \n",
    "    for count,ticker in enumerate(tickers):\n",
    "        if ticker in missing_tickers:\n",
    "            pass\n",
    "        else:\n",
    "            df = pd.read_csv('stock_dfs/{}.csv'.format(ticker))\n",
    "            df.set_index('Date', inplace=True)\n",
    "\n",
    "            df.rename(columns = {'Close': ticker}, inplace=True)\n",
    "            df.drop(['Open','High','Low','Volume'], 1, inplace=True)\n",
    "\n",
    "            # Join the DataFrames together\n",
    "            if main_df.empty:\n",
    "                main_df = df\n",
    "            else:\n",
    "                main_df = main_df.join(df, how='outer')\n",
    "\n",
    "            if count % 50 == 0:  # Track progress\n",
    "                print(count)\n",
    "            \n",
    "    print(main_df.head())\n",
    "    main_df.to_csv('sp500_joined_closes.csv')"
   ]
  },
  {
   "cell_type": "code",
   "execution_count": 46,
   "metadata": {},
   "outputs": [
    {
     "name": "stdout",
     "output_type": "stream",
     "text": [
      "0\n",
      "50\n",
      "100\n",
      "150\n",
      "200\n",
      "250\n",
      "300\n",
      "350\n",
      "400\n",
      "450\n",
      "500\n",
      "              MMM      ABT  ABBV  ABMD    ACN   ATVI   ADBE   AMD    AAP  \\\n",
      "Date                                                                       \n",
      "2010-01-01  82.67  25.8328   NaN  8.73  41.50  11.11  36.78  9.68  40.48   \n",
      "2010-01-04  83.02  26.0577   NaN  8.74  42.07  11.30  37.09  9.70  40.38   \n",
      "2010-01-05  82.50  25.8471   NaN  8.53  42.33  11.32  37.70  9.71  40.14   \n",
      "2010-01-06  83.67  25.9907   NaN  8.40  42.78  11.26  37.62  9.57  40.49   \n",
      "2010-01-07  83.73  26.2060   NaN  8.40  42.74  10.99  36.89  9.47  40.48   \n",
      "\n",
      "              AES ...    WYNN    XEL      XRX   XLNX     XL  XYL      YUM  \\\n",
      "Date              ...                                                       \n",
      "2010-01-01  13.31 ...   58.23  21.22  22.2887  25.06  18.33  NaN  25.0967   \n",
      "2010-01-04  13.67 ...   63.96  21.08  22.7365  25.38  18.72  NaN  25.1828   \n",
      "2010-01-05  13.53 ...   67.85  20.83  22.7629  25.06  18.59  NaN  25.0967   \n",
      "2010-01-06  13.39 ...   66.96  20.87  22.5521  24.89  18.40  NaN  24.9173   \n",
      "2010-01-07  13.40 ...   68.39  20.78  22.6575  24.64  18.40  NaN  24.9101   \n",
      "\n",
      "              ZBH   ZION  ZTS  \n",
      "Date                           \n",
      "2010-01-01  59.11  12.83  NaN  \n",
      "2010-01-04  60.02  13.33  NaN  \n",
      "2010-01-05  61.92  13.80  NaN  \n",
      "2010-01-06  61.90  15.00  NaN  \n",
      "2010-01-07  63.32  16.68  NaN  \n",
      "\n",
      "[5 rows x 494 columns]\n"
     ]
    }
   ],
   "source": [
    "compile_data()"
   ]
  },
  {
   "cell_type": "markdown",
   "metadata": {},
   "source": [
    "Note that not all of the tickers were trading during early 2010, therefore several of the tickers have missing data (NaN) when observing the head of the dataframe."
   ]
  },
  {
   "cell_type": "markdown",
   "metadata": {},
   "source": [
    "### S&P 500 Company Correlation Table\n",
    "\n",
    "https://www.youtube.com/watch?v=PxUzcDJBEZ4"
   ]
  },
  {
   "cell_type": "code",
   "execution_count": null,
   "metadata": {},
   "outputs": [],
   "source": []
  },
  {
   "cell_type": "code",
   "execution_count": null,
   "metadata": {},
   "outputs": [],
   "source": []
  },
  {
   "cell_type": "code",
   "execution_count": null,
   "metadata": {},
   "outputs": [],
   "source": []
  },
  {
   "cell_type": "code",
   "execution_count": null,
   "metadata": {},
   "outputs": [],
   "source": []
  },
  {
   "cell_type": "code",
   "execution_count": null,
   "metadata": {},
   "outputs": [],
   "source": []
  },
  {
   "cell_type": "code",
   "execution_count": null,
   "metadata": {},
   "outputs": [],
   "source": []
  },
  {
   "cell_type": "code",
   "execution_count": null,
   "metadata": {},
   "outputs": [],
   "source": []
  },
  {
   "cell_type": "code",
   "execution_count": null,
   "metadata": {},
   "outputs": [],
   "source": []
  },
  {
   "cell_type": "markdown",
   "metadata": {},
   "source": [
    "The performance of the S&P can be used as an indicator for roughly how well the economy is doing. Investors commonly refer to the S&P as a benchmark of the overall market, to which all other investments are compared. \n",
    "\n",
    "Here we will wr"
   ]
  },
  {
   "cell_type": "code",
   "execution_count": null,
   "metadata": {},
   "outputs": [],
   "source": []
  }
 ],
 "metadata": {
  "kernelspec": {
   "display_name": "Python 3",
   "language": "python",
   "name": "python3"
  },
  "language_info": {
   "codemirror_mode": {
    "name": "ipython",
    "version": 3
   },
   "file_extension": ".py",
   "mimetype": "text/x-python",
   "name": "python",
   "nbconvert_exporter": "python",
   "pygments_lexer": "ipython3",
   "version": "3.5.2"
  }
 },
 "nbformat": 4,
 "nbformat_minor": 1
}
